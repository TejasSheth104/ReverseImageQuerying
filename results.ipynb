{
 "cells": [
  {
   "cell_type": "code",
   "execution_count": 19,
   "metadata": {},
   "outputs": [],
   "source": [
    "import os\n",
    "from PIL import Image\n",
    "import numpy as np\n",
    "import pandas as pd\n",
    "import pickle\n",
    "import matplotlib.image as mpimg\n",
    "import matplotlib.pyplot as plt\n",
    "from scipy.spatial.distance import cosine\n",
    "from scipy.spatial import distance\n",
    "import random"
   ]
  },
  {
   "cell_type": "code",
   "execution_count": 20,
   "metadata": {},
   "outputs": [
    {
     "name": "stdout",
     "output_type": "stream",
     "text": [
      "['black', 'blue', 'brown', 'cyan', 'dgreen', 'gray', 'lgreen', 'lime', 'magenta', 'orange', 'pink', 'purple', 'red', 'teal', 'violet', 'white', 'yellow']\n"
     ]
    }
   ],
   "source": [
    "colors = []\n",
    "imgnames = []\n",
    "dir = \"data\"\n",
    "path = os.listdir(dir)\n",
    "for img in path:\n",
    "    # image = Image.open(dir + \"/\" + img)\n",
    "    name = (img[:-6])\n",
    "    if name not in colors:\n",
    "        colors.append(name)\n",
    "    imgnames.append(img)\n",
    "print(colors)"
   ]
  },
  {
   "cell_type": "code",
   "execution_count": 21,
   "metadata": {},
   "outputs": [],
   "source": [
    "colors = ['black', 'blue', 'brown', 'cyan', 'dgreen', 'gray', 'lgreen', 'lime', 'magenta', 'orange', 'pink', 'purple', 'red', 'teal', 'violet', 'white', 'yellow']\n",
    "file = open('datax', 'rb')\n",
    "df = pickle.load(file)\n",
    "df.insert(0, \"ImgName\", imgnames, True)"
   ]
  },
  {
   "cell_type": "code",
   "execution_count": 22,
   "metadata": {},
   "outputs": [
    {
     "data": {
      "text/plain": [
       "'cyan08.jpg'"
      ]
     },
     "execution_count": 22,
     "metadata": {},
     "output_type": "execute_result"
    }
   ],
   "source": [
    "df.iloc[67][0]"
   ]
  },
  {
   "cell_type": "code",
   "execution_count": 23,
   "metadata": {},
   "outputs": [
    {
     "name": "stdout",
     "output_type": "stream",
     "text": [
      "cosine distance: 52.941176470588246\n"
     ]
    }
   ],
   "source": [
    "max = 0\n",
    "for i in range(100):\n",
    "    sum = 0\n",
    "    #in each color\n",
    "    for color in colors:\n",
    "        #extract features of 1st image \n",
    "        n = random.randint(1, 20)\n",
    "        if n < 10: \n",
    "            n = \"0\" + str(n)\n",
    "        else:\n",
    "            n = str(n)\n",
    "        imgseed = mpimg.imread(\"data/\"+color+n+\".jpg\")\n",
    "        red = np.average(imgseed[:, :, 0])\n",
    "        green = np.average(imgseed[:, :, 1])\n",
    "        blue = np.average(imgseed[:, :, 2])\n",
    "        query_feature = [imgseed, red, green, blue]\n",
    "        #calc its cosine distance \n",
    "        distances = []\n",
    "        idx = 0\n",
    "        for i in range(len(df)):\n",
    "            temp_data = df.iloc[i, -3:]\n",
    "            temp_data = np.array(temp_data).reshape(1, -1)\n",
    "            # cosine distance\n",
    "            dist = cosine(query_feature[-3:], temp_data)\n",
    "            distances.append([dist, idx])\n",
    "            idx += 1\n",
    "        distances.sort()\n",
    "        # get results\n",
    "        result = []\n",
    "        for dist, idx in distances:\n",
    "            result.append(idx)\n",
    "        #in each result how many with same name\n",
    "        count = 0\n",
    "        for idx in result[:20]:\n",
    "            if (df.iloc[idx][0]).startswith(color):\n",
    "                count = count + 1\n",
    "                # print(df.iloc[idx][0])\n",
    "        # print(count)\n",
    "        sum = sum + (count / 20)\n",
    "        # print(\"--------------------------------\")\n",
    "    accuracy = sum / len(colors)\n",
    "    if accuracy>max: \n",
    "        max = accuracy\n",
    "    # print(accuracy*100)\n",
    "print(\"cosine distance: \"+str(max*100))"
   ]
  },
  {
   "cell_type": "code",
   "execution_count": 24,
   "metadata": {},
   "outputs": [
    {
     "name": "stdout",
     "output_type": "stream",
     "text": [
      "euclidean distance: 52.64705882352941\n"
     ]
    }
   ],
   "source": [
    "max = 0\n",
    "for i in range(100):\n",
    "    sum = 0\n",
    "    #in each color\n",
    "    for color in colors:\n",
    "        #extract features of 1st image \n",
    "        n = random.randint(1, 20)\n",
    "        if n < 10: \n",
    "            n = \"0\" + str(n)\n",
    "        else:\n",
    "            n = str(n)\n",
    "        imgseed = mpimg.imread(\"data/\"+color+n+\".jpg\")\n",
    "        red = np.average(imgseed[:, :, 0])\n",
    "        green = np.average(imgseed[:, :, 1])\n",
    "        blue = np.average(imgseed[:, :, 2])\n",
    "        query_feature = [imgseed, red, green, blue]\n",
    "        #calc its cosine distance \n",
    "        distances = []\n",
    "        idx = 0\n",
    "        for i in range(len(df)):\n",
    "            temp_data = df.iloc[i, -3:]\n",
    "            temp_data = np.array(temp_data).reshape(1, -1)\n",
    "            # euclidean distance\n",
    "            dist = distance.euclidean(query_feature[-3:], temp_data)\n",
    "            distances.append([dist, idx])\n",
    "            idx += 1\n",
    "        distances.sort()\n",
    "        # get results\n",
    "        result = []\n",
    "        for dist, idx in distances:\n",
    "            result.append(idx)\n",
    "        #in each result how many with same name\n",
    "        count = 0\n",
    "        for idx in result[:20]:\n",
    "            if (df.iloc[idx][0]).startswith(color):\n",
    "                count = count + 1\n",
    "                # print(df.iloc[idx][0])\n",
    "        # print(count)\n",
    "        sum = sum + (count / 20)\n",
    "        # print(\"--------------------------------\")\n",
    "    accuracy = sum / len(colors)\n",
    "    if accuracy>max: \n",
    "        max = accuracy\n",
    "    # print(accuracy*100)\n",
    "print(\"euclidean distance: \"+str(max*100))"
   ]
  },
  {
   "cell_type": "code",
   "execution_count": 25,
   "metadata": {},
   "outputs": [
    {
     "name": "stdout",
     "output_type": "stream",
     "text": [
      "chebyshev distance: 55.58823529411764\n"
     ]
    }
   ],
   "source": [
    "max = 0\n",
    "for i in range(100):\n",
    "    sum = 0\n",
    "    #in each color\n",
    "    for color in colors:\n",
    "        #extract features of 1st image \n",
    "        n = random.randint(1, 20)\n",
    "        if n < 10: \n",
    "            n = \"0\" + str(n)\n",
    "        else:\n",
    "            n = str(n)\n",
    "        imgseed = mpimg.imread(\"data/\"+color+n+\".jpg\")\n",
    "        red = np.average(imgseed[:, :, 0])\n",
    "        green = np.average(imgseed[:, :, 1])\n",
    "        blue = np.average(imgseed[:, :, 2])\n",
    "        query_feature = [imgseed, red, green, blue]\n",
    "        #calc its cosine distance \n",
    "        distances = []\n",
    "        idx = 0\n",
    "        for i in range(len(df)):\n",
    "            temp_data = df.iloc[i, -3:]\n",
    "            temp_data = np.array(temp_data).reshape(1, -1)\n",
    "            # chebyshev distance\n",
    "            dist = distance.chebyshev(query_feature[-3:], temp_data)\n",
    "            distances.append([dist, idx])\n",
    "            idx += 1\n",
    "        distances.sort()\n",
    "        # get results\n",
    "        result = []\n",
    "        for dist, idx in distances:\n",
    "            result.append(idx)\n",
    "        #in each result how many with same name\n",
    "        count = 0\n",
    "        for idx in result[:20]:\n",
    "            if (df.iloc[idx][0]).startswith(color):\n",
    "                count = count + 1\n",
    "                # print(df.iloc[idx][0])\n",
    "        # print(count)\n",
    "        sum = sum + (count / 20)\n",
    "        # print(\"--------------------------------\")\n",
    "    accuracy = sum / len(colors)\n",
    "    if accuracy>max: \n",
    "        max = accuracy\n",
    "    # print(accuracy*100)\n",
    "print(\"chebyshev distance: \"+str(max*100))"
   ]
  }
 ],
 "metadata": {
  "kernelspec": {
   "display_name": "Python 3.9.2 64-bit",
   "language": "python",
   "name": "python3"
  },
  "language_info": {
   "codemirror_mode": {
    "name": "ipython",
    "version": 3
   },
   "file_extension": ".py",
   "mimetype": "text/x-python",
   "name": "python",
   "nbconvert_exporter": "python",
   "pygments_lexer": "ipython3",
   "version": "3.9.2"
  },
  "orig_nbformat": 4,
  "vscode": {
   "interpreter": {
    "hash": "b738206159d7e027a97ec26924432f55eb34fd29a1e8515757a942eaa7b40b64"
   }
  }
 },
 "nbformat": 4,
 "nbformat_minor": 2
}
