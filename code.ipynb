{
 "cells": [
  {
   "cell_type": "code",
   "execution_count": 21,
   "metadata": {},
   "outputs": [],
   "source": [
    "# importing necessary values\n",
    "import os\n",
    "from PIL import Image\n",
    "import numpy as np\n",
    "import pandas as pd\n",
    "import pickle\n",
    "import matplotlib.image as mpimg\n",
    "import matplotlib.pyplot as plt\n",
    "from scipy.spatial.distance import cosine"
   ]
  },
  {
   "cell_type": "code",
   "execution_count": 22,
   "metadata": {},
   "outputs": [],
   "source": [
    "# To save the compressed images\n",
    "images = []\n",
    "# To save rgb averages\n",
    "avg_red = []\n",
    "avg_blue = []\n",
    "avg_green = []\n",
    "\n",
    "# list the dataset\n",
    "dir = \"data\"\n",
    "path = os.listdir(dir)\n",
    "basewidth = 300\n",
    "\n",
    "# iterating through images \n",
    "for img in path:\n",
    "  image = Image.open(dir + \"/\" + img)\n",
    "\n",
    "  # compressing images\n",
    "  width_percent = basewidth/float(image.size[0])\n",
    "  hsize = int(float(image.size[1])*float(width_percent))\n",
    "  image = image.resize((basewidth, hsize), Image.ANTIALIAS)\n",
    "  image.save(dir + \"/\" + img)\n",
    "  images.append(image)\n",
    "  img_array = np.array(image)\n",
    "\n",
    "# img_array"
   ]
  },
  {
   "cell_type": "code",
   "execution_count": 23,
   "metadata": {},
   "outputs": [],
   "source": [
    "for img in path:\n",
    "  image = Image.open(dir + \"/\" + img)\n",
    "  img_array = np.array(image)\n",
    "\n",
    "  # store average rgb values\n",
    "  red = np.average(img_array[:, :, 0])\n",
    "  blue = np.average(img_array[:, :, 1])\n",
    "  green = np.average(img_array[:, :, 2])\n",
    "  avg_red.append(red)\n",
    "  avg_blue.append(blue)\n",
    "  avg_green.append(green)\n",
    "\n",
    "# img_array"
   ]
  },
  {
   "cell_type": "code",
   "execution_count": 24,
   "metadata": {},
   "outputs": [],
   "source": [
    "# creating dataframe to store images and its respective attributes\n",
    "data = {\n",
    "  'image': images,\n",
    "  'average_red': avg_red,\n",
    "  'average_blue': avg_blue,\n",
    "  'average_green': avg_green\n",
    "}\n",
    "\n",
    "df = pd.DataFrame(data)\n",
    "# df"
   ]
  },
  {
   "cell_type": "code",
   "execution_count": 25,
   "metadata": {},
   "outputs": [],
   "source": [
    "# save dataframe to pickle file \n",
    "file = open('datax', 'wb')\n",
    "pickle.dump(df, file)\n",
    "file.close()"
   ]
  },
  {
   "cell_type": "code",
   "execution_count": null,
   "metadata": {},
   "outputs": [],
   "source": [
    "\"\"\"\n",
    "# getting query image\n",
    "input_image = mpimg.imread('data/dgreen05.jpg')\n",
    "red = np.average(input_image[:, :, 0])\n",
    "blue = np.average(input_image[:, :, 1])\n",
    "green = np.average(input_image[:, :, 2])\n",
    "query_feature = [input_image, red, blue, green]\n",
    "\n",
    "plt.imshow(input_image)\n",
    "# query_feature\n",
    "\"\"\""
   ]
  },
  {
   "cell_type": "code",
   "execution_count": null,
   "metadata": {},
   "outputs": [],
   "source": [
    "\"\"\"\n",
    "# calulate cosine distance from query image to all images\n",
    "cosine_distance = []\n",
    "idx = 0\n",
    "for i in range(len(df)):\n",
    "  temp_data = df.iloc[i, -3:]\n",
    "  temp_data = np.array(temp_data).reshape(1, -1)\n",
    "  dist = cosine(query_feature[-3:], temp_data)\n",
    "  cosine_distance.append([dist, idx])\n",
    "  idx += 1\n",
    "\n",
    "# sorting the cosine distances\n",
    "cosine_distance.sort()\n",
    "# cosine_distance\n",
    "\"\"\""
   ]
  },
  {
   "cell_type": "code",
   "execution_count": null,
   "metadata": {},
   "outputs": [],
   "source": [
    "\"\"\"\n",
    "# storng the images and their respective cosine distances\n",
    "result = []\n",
    "for dist, idx in cosine_distance:\n",
    "  result.append(idx)\n",
    "\n",
    "# result\n",
    "\"\"\""
   ]
  },
  {
   "cell_type": "code",
   "execution_count": null,
   "metadata": {},
   "outputs": [],
   "source": [
    "\"\"\"\n",
    "##\n",
    "# displaying output\n",
    "x = 0\n",
    "for idx in result:\n",
    "  plt.figure()\n",
    "  plt.imshow(df.iloc[idx][0])\n",
    "\n",
    "  x += 1\n",
    "  if (x > 5):\n",
    "    break\n",
    "\"\"\""
   ]
  }
 ],
 "metadata": {
  "interpreter": {
   "hash": "662d1db83199f47cfd84b405091302a284f4ff228b5ba9d65c6363acd2a93c88"
  },
  "kernelspec": {
   "display_name": "Python 3.9.7 ('base')",
   "language": "python",
   "name": "python3"
  },
  "language_info": {
   "codemirror_mode": {
    "name": "ipython",
    "version": 3
   },
   "file_extension": ".py",
   "mimetype": "text/x-python",
   "name": "python",
   "nbconvert_exporter": "python",
   "pygments_lexer": "ipython3",
   "version": "3.9.7"
  },
  "orig_nbformat": 4
 },
 "nbformat": 4,
 "nbformat_minor": 2
}
